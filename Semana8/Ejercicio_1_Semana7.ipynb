{
  "nbformat": 4,
  "nbformat_minor": 0,
  "metadata": {
    "colab": {
      "provenance": []
    },
    "kernelspec": {
      "name": "python3",
      "display_name": "Python 3"
    },
    "language_info": {
      "name": "python"
    }
  },
  "cells": [
    {
      "cell_type": "code",
      "execution_count": 12,
      "metadata": {
        "colab": {
          "base_uri": "https://localhost:8080/"
        },
        "id": "E2MRudYEoRBS",
        "outputId": "9b81f79c-635b-4fdb-9e6c-5c24f78755c2"
      },
      "outputs": [
        {
          "output_type": "execute_result",
          "data": {
            "text/plain": [
              "14.801135944990165"
            ]
          },
          "metadata": {},
          "execution_count": 12
        }
      ],
      "source": [
        "#Métodos numéricos\n",
        "#Ana Isabel Esquivel Castro\n",
        "#436578\n",
        "\n",
        "\n",
        "#MÉTODO 1: BISECCIÓN\n",
        "import scipy as sp\n",
        "import math\n",
        "f = lambda c:(9.81 * 68.1) / c * (1 - math.exp(-(c / 68.1) * 10)) - 40\n",
        "sp.optimize.bisect(f,4,20)\n",
        "\n"
      ]
    },
    {
      "cell_type": "code",
      "source": [
        "\n",
        "#MÉTODO 2: FALSA POSICIÓN\n",
        "import scipy as sp\n",
        "import math\n",
        "f = lambda c:(9.81 * 68.1) / c * (1 - math.exp(-(c / 68.1) * 10)) - 40\n",
        "sp.optimize.root_scalar(f,bracket=[4,20],method='brenth',rtol=00.1)"
      ],
      "metadata": {
        "colab": {
          "base_uri": "https://localhost:8080/"
        },
        "outputId": "a61eade0-6db2-4c50-f674-972bcc920a2a",
        "id": "vBDrddZxwm60"
      },
      "execution_count": 18,
      "outputs": [
        {
          "output_type": "execute_result",
          "data": {
            "text/plain": [
              "      converged: True\n",
              "           flag: converged\n",
              " function_calls: 5\n",
              "     iterations: 4\n",
              "           root: 14.767106344598538\n",
              "         method: brenth"
            ]
          },
          "metadata": {},
          "execution_count": 18
        }
      ]
    },
    {
      "cell_type": "code",
      "source": [
        "#MÉTODO 3: NEWTON RAPSHON\n",
        "import scipy as sp\n",
        "import math\n",
        "f = lambda x: math.exp(-x)-x\n",
        "sp.optimize.root_scalar(f,x0=0,method='newton',rtol=00.1)"
      ],
      "metadata": {
        "colab": {
          "base_uri": "https://localhost:8080/"
        },
        "id": "nhkacJMlr3ag",
        "outputId": "fccc03ec-908e-46e4-82a9-a59ea2888cc7"
      },
      "execution_count": 20,
      "outputs": [
        {
          "output_type": "execute_result",
          "data": {
            "text/plain": [
              "      converged: True\n",
              "           flag: converged\n",
              " function_calls: 6\n",
              "     iterations: 3\n",
              "           root: 0.5671431650369697\n",
              "         method: newton"
            ]
          },
          "metadata": {},
          "execution_count": 20
        }
      ]
    },
    {
      "cell_type": "code",
      "source": [
        "#MÉTODO 3: NEWTON SECANTE\n",
        "import scipy as sp\n",
        "import math\n",
        "f = lambda x: math.exp(-x)-x\n",
        "sp.optimize.root_scalar(f,x0=0,method='secant',rtol=00.1)"
      ],
      "metadata": {
        "colab": {
          "base_uri": "https://localhost:8080/"
        },
        "outputId": "e29a6db7-7e1e-4c91-86a4-ffc148de106f",
        "id": "LxyM5i260J3o"
      },
      "execution_count": 21,
      "outputs": [
        {
          "output_type": "execute_result",
          "data": {
            "text/plain": [
              "      converged: True\n",
              "           flag: converged\n",
              " function_calls: 4\n",
              "     iterations: 3\n",
              "           root: 0.5670508393180879\n",
              "         method: secant"
            ]
          },
          "metadata": {},
          "execution_count": 21
        }
      ]
    }
  ]
}