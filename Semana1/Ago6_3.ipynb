{
  "nbformat": 4,
  "nbformat_minor": 0,
  "metadata": {
    "colab": {
      "provenance": [],
      "authorship_tag": "ABX9TyP0iGt3jWg33hLRzZtiBcj8",
      "include_colab_link": true
    },
    "kernelspec": {
      "name": "python3",
      "display_name": "Python 3"
    },
    "language_info": {
      "name": "python"
    }
  },
  "cells": [
    {
      "cell_type": "markdown",
      "metadata": {
        "id": "view-in-github",
        "colab_type": "text"
      },
      "source": [
        "<a href=\"https://colab.research.google.com/github/DCI-alxogm/me2025-clase-anaisabelesquivel11-sketch/blob/main/Semana1/Ago6_3.ipynb\" target=\"_parent\"><img src=\"https://colab.research.google.com/assets/colab-badge.svg\" alt=\"Open In Colab\"/></a>"
      ]
    },
    {
      "cell_type": "code",
      "execution_count": 1,
      "metadata": {
        "colab": {
          "base_uri": "https://localhost:8080/"
        },
        "id": "AjqQZqaNbXFT",
        "outputId": "b5d7a424-a813-4b6a-e46e-43b69fccf8ce"
      },
      "outputs": [
        {
          "output_type": "stream",
          "name": "stdout",
          "text": [
            "En esta clase tuvimos una introducción a Github\n"
          ]
        }
      ],
      "source": [
        "#Este es mi tercer cuaderno de práctica\n",
        "print(\"En esta clase tuvimos una introducción a Github\")"
      ]
    }
  ]
}